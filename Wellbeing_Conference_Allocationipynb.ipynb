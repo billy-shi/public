{
  "nbformat": 4,
  "nbformat_minor": 0,
  "metadata": {
    "colab": {
      "name": "Wellbeing_Conference_Allocationipynb",
      "provenance": [],
      "collapsed_sections": [],
      "authorship_tag": "ABX9TyMJci9bvj2UR25XJGf5C2d3",
      "include_colab_link": true
    },
    "kernelspec": {
      "name": "python3",
      "display_name": "Python 3"
    },
    "language_info": {
      "name": "python"
    }
  },
  "cells": [
    {
      "cell_type": "markdown",
      "metadata": {
        "id": "view-in-github",
        "colab_type": "text"
      },
      "source": [
        "<a href=\"https://colab.research.google.com/github/billy-shi/public/blob/main/Wellbeing_Conference_Allocationipynb.ipynb\" target=\"_parent\"><img src=\"https://colab.research.google.com/assets/colab-badge.svg\" alt=\"Open In Colab\"/></a>"
      ]
    },
    {
      "cell_type": "markdown",
      "metadata": {
        "id": "88rAyVxgsqST"
      },
      "source": [
        "**Please press the run button below, then type in your first name.**\n",
        "\n",
        "**You can then copy and paste the link into the browser.**\n",
        "\n",
        "**If you are lost, join the main space at: https://meet.google.com/rvw-dijn-qyq**"
      ]
    },
    {
      "cell_type": "code",
      "metadata": {
        "colab": {
          "base_uri": "https://localhost:8080/"
        },
        "collapsed": true,
        "id": "MnoSldkxnKmv",
        "cellView": "form",
        "outputId": "ad2e45ae-5491-4ae3-df06-e8b61969f327"
      },
      "source": [
        "#@title\n",
        "import pandas as pd\n",
        "url = 'https://raw.githubusercontent.com/billy-shi/public/main/wb_conf_roster.csv'\n",
        "df1 = pd.read_csv(url)\n",
        "dic = df1.to_dict('split')\n",
        "error = 0\n",
        "name = input(\"Please type in your name (first name, or how you'd usually be called): \")\n",
        "linkd = {\"Mental Health Stigma\": 'https://meet.google.com/pvp-ddan-kgc', \n",
        "        \"Climate Change\": 'https://meet.google.com/sfa-xier-cqp',\n",
        "        \"Future of Education\": 'https://meet.google.com/aer-adjv-jbh',\n",
        "        \"Failing and Succeeding\": 'https://meet.google.com/uyx-tzeo-rwx',\n",
        "        \"Evolution of Programming\": 'https://meet.google.com/test-link',\n",
        "        \"Understanding Racism\": 'https://meet.google.com/test-link',\n",
        "        \"Financial Inequality/Poverty\": 'https://meet.google.com/test-link'}\n",
        "for list in dic['data']:\n",
        "    if list[0] == str(name):\n",
        "      print(\"--\"*20)\n",
        "      if name in [\"Emily\"]:\n",
        "        print(\"Your name is \" + list[0] + \" \" + list[1] + \" in Grade \" + str(list[2]))\n",
        "      else:\n",
        "        print(\"Your name is: \" + list[0] + \" in Grade \" + str(list[2]))\n",
        "      print(\"Your first session at 10am is: \" + list[3])\n",
        "      print(\"At 10am, click this link: \" + linkd[list[3]])\n",
        "      print(\"Your second session at 11am is: \" + list[4])\n",
        "      print(\"At 11am, click this link: \" + linkd[list[4]])\n",
        "      error += 1\n",
        "    else:\n",
        "      pass\n",
        "if error == 0:\n",
        "    print(\"No matching name found. Retry or contact your teacher/tutor.\")"
      ],
      "execution_count": 1,
      "outputs": [
        {
          "output_type": "stream",
          "text": [
            "Please type in your name (first name, or how you'd usually be called): Kayli\n",
            "----------------------------------------\n",
            "Your name is: Kayli in Grade 8\n",
            "Your first session at 10am is: Financial Inequality/Poverty\n",
            "At 10am, click this link: https://meet.google.com/test-link\n",
            "Your second session at 11am is: Mental Health Stigma\n",
            "At 11am, click this link: https://meet.google.com/pvp-ddan-kgc\n"
          ],
          "name": "stdout"
        }
      ]
    }
  ]
}